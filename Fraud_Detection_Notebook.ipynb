{
  "nbformat": 4,
  "nbformat_minor": 0,
  "metadata": {
    "colab": {
      "provenance": []
    },
    "kernelspec": {
      "name": "python3",
      "display_name": "Python 3"
    },
    "language_info": {
      "name": "python"
    }
  },
  "cells": [
    {
      "cell_type": "markdown",
      "source": [
        "# **Import Libary**"
      ],
      "metadata": {
        "id": "4CYwAnjzOs3M"
      }
    },
    {
      "cell_type": "code",
      "execution_count": 1,
      "metadata": {
        "id": "Qkxi2IFwN3_7"
      },
      "outputs": [],
      "source": [
        "# --- Library untuk manipulasi data ---\n",
        "import pandas as pd\n",
        "import numpy as np\n",
        "\n",
        "# --- Library untuk visualisasi data ---\n",
        "import matplotlib.pyplot as plt\n",
        "import seaborn as sns\n",
        "\n",
        "# --- Library untuk preprocessing dan pemodelan ---\n",
        "# Memisahkan data\n",
        "from sklearn.model_selection import train_test_split\n",
        "# Untuk menangani data kategorikal dan numerik\n",
        "from sklearn.preprocessing import StandardScaler, OneHotEncoder\n",
        "from sklearn.compose import ColumnTransformer\n",
        "# Untuk membuat alur kerja yang rapi\n",
        "from sklearn.pipeline import Pipeline\n",
        "\n",
        "# --- Model Machine Learning ---\n",
        "# Model dasar sebagai pembanding\n",
        "from sklearn.linear_model import LogisticRegression\n",
        "# Model ensemble yang kuat\n",
        "from sklearn.ensemble import RandomForestClassifier\n",
        "# Model gradient boosting yang sangat populer dan powerful\n",
        "import xgboost as xgb\n",
        "\n",
        "# --- Library untuk evaluasi model ---\n",
        "from sklearn.metrics import classification_report, confusion_matrix, roc_auc_score, precision_recall_curve, auc\n",
        "\n",
        "# --- Pengaturan default untuk visualisasi ---\n",
        "sns.set_style('darkgrid')\n",
        "plt.rcParams['figure.figsize'] = (12, 7)"
      ]
    },
    {
      "cell_type": "markdown",
      "source": [
        "# **Memuat & Eksplorasi Data (EDA - Exploratory Data Analysis)**"
      ],
      "metadata": {
        "id": "bsjqDOE5OxdB"
      }
    },
    {
      "cell_type": "code",
      "source": [
        "# Memuat dataset dari file yang sudah di-upload\n",
        "try:\n",
        "    df = pd.read_csv('data2.csv')\n",
        "    print(\"✅ Dataset 'data2.csv' berhasil dimuat.\")\n",
        "except FileNotFoundError:\n",
        "    print(\"❌ ERROR: File 'data2.csv' tidak ditemukan. Pastikan file sudah di-upload ke Colab.\")\n",
        "    # Hentikan eksekusi jika file tidak ada\n",
        "    exit()"
      ],
      "metadata": {
        "colab": {
          "base_uri": "https://localhost:8080/"
        },
        "id": "GgtcQ47tOcV9",
        "outputId": "f8b625fc-bff7-4776-de66-c1c62d5ccf04"
      },
      "execution_count": 2,
      "outputs": [
        {
          "output_type": "stream",
          "name": "stdout",
          "text": [
            "✅ Dataset 'data2.csv' berhasil dimuat.\n"
          ]
        }
      ]
    },
    {
      "cell_type": "code",
      "source": [
        "# Menampilkan 5 baris pertama data untuk melihat isinya\n",
        "print(\"\\n5 Baris Pertama Data:\")\n",
        "print(df.head())"
      ],
      "metadata": {
        "colab": {
          "base_uri": "https://localhost:8080/"
        },
        "id": "MLvc9Di2O2u_",
        "outputId": "e1837051-3fb8-4f22-f157-ad523767e91c"
      },
      "execution_count": 3,
      "outputs": [
        {
          "output_type": "stream",
          "name": "stdout",
          "text": [
            "\n",
            "5 Baris Pertama Data:\n",
            "  Profession  Income   Credit_card_number Expiry  Security_code  Fraud\n",
            "0     DOCTOR   42509     3515418493460774  07/25            251      1\n",
            "1     DOCTOR   80334      213134223583196  05/32            858      1\n",
            "2     LAWYER   91552     4869615013764888  03/30            755      1\n",
            "3     LAWYER   43623      341063356109385  01/29            160      1\n",
            "4     DOCTOR   22962  4707418777543978402  11/30            102      0\n"
          ]
        }
      ]
    },
    {
      "cell_type": "code",
      "source": [
        "# Menampilkan informasi dasar (tipe data, jumlah data non-null)\n",
        "print(\"\\nInformasi Dataset:\")\n",
        "df.info()"
      ],
      "metadata": {
        "colab": {
          "base_uri": "https://localhost:8080/"
        },
        "id": "-93yjBhKO4Qo",
        "outputId": "2bbb4969-ae87-459b-e1fd-1edd9d06919e"
      },
      "execution_count": 4,
      "outputs": [
        {
          "output_type": "stream",
          "name": "stdout",
          "text": [
            "\n",
            "Informasi Dataset:\n",
            "<class 'pandas.core.frame.DataFrame'>\n",
            "RangeIndex: 10000 entries, 0 to 9999\n",
            "Data columns (total 6 columns):\n",
            " #   Column              Non-Null Count  Dtype \n",
            "---  ------              --------------  ----- \n",
            " 0   Profession          10000 non-null  object\n",
            " 1   Income              10000 non-null  int64 \n",
            " 2   Credit_card_number  10000 non-null  int64 \n",
            " 3   Expiry              10000 non-null  object\n",
            " 4   Security_code       10000 non-null  int64 \n",
            " 5   Fraud               10000 non-null  int64 \n",
            "dtypes: int64(4), object(2)\n",
            "memory usage: 468.9+ KB\n"
          ]
        }
      ]
    },
    {
      "cell_type": "code",
      "source": [
        "# Menampilkan statistik deskriptif untuk kolom numerik (Income)\n",
        "print(\"\\nStatistik Deskriptif:\")\n",
        "print(df.describe())"
      ],
      "metadata": {
        "colab": {
          "base_uri": "https://localhost:8080/"
        },
        "id": "9zDBhlViO5jJ",
        "outputId": "482f1d70-7baf-41fc-ea77-71b9019f9039"
      },
      "execution_count": 5,
      "outputs": [
        {
          "output_type": "stream",
          "name": "stdout",
          "text": [
            "\n",
            "Statistik Deskriptif:\n",
            "            Income  Credit_card_number  Security_code         Fraud\n",
            "count  10000.00000        1.000000e+04   10000.000000  10000.000000\n",
            "mean   49761.20600        3.851363e+17     863.587800      0.501600\n",
            "std    28837.72928        1.257950e+18    1484.424959      0.500022\n",
            "min        1.00000        6.040296e+10       0.000000      0.000000\n",
            "25%    24863.75000        1.800137e+14     275.000000      0.000000\n",
            "50%    49483.00000        3.512440e+15     539.500000      1.000000\n",
            "75%    74483.00000        4.594779e+15     813.250000      1.000000\n",
            "max    99986.00000        4.999697e+18    9990.000000      1.000000\n"
          ]
        }
      ]
    },
    {
      "cell_type": "code",
      "source": [
        "# --- Analisa Target Variable 'Fraud' ---\n",
        "print(\"\\nDistribusi Kelas (Fraud vs Legitimate):\")\n",
        "fraud_counts = df['Fraud'].value_counts()\n",
        "print(fraud_counts)"
      ],
      "metadata": {
        "colab": {
          "base_uri": "https://localhost:8080/"
        },
        "id": "1BQLxnG0O7Wl",
        "outputId": "7997b066-ce54-40bb-bdc7-53370a0231b1"
      },
      "execution_count": 6,
      "outputs": [
        {
          "output_type": "stream",
          "name": "stdout",
          "text": [
            "\n",
            "Distribusi Kelas (Fraud vs Legitimate):\n",
            "Fraud\n",
            "1    5016\n",
            "0    4984\n",
            "Name: count, dtype: int64\n"
          ]
        }
      ]
    },
    {
      "cell_type": "code",
      "source": [
        "# Visualisasi distribusi kelas\n",
        "plt.figure(figsize=(8, 5))\n",
        "sns.countplot(x='Fraud', data=df)\n",
        "plt.title('Distribusi Transaksi Fraud (1) vs Legitimate (0)', fontsize=16)\n",
        "plt.xlabel('Kelas', fontsize=12)\n",
        "plt.ylabel('Jumlah Transaksi', fontsize=12)\n",
        "plt.xticks([0, 1], ['Legitimate', 'Fraud'])\n",
        "plt.show()"
      ],
      "metadata": {
        "colab": {
          "base_uri": "https://localhost:8080/",
          "height": 493
        },
        "id": "8hnQ_rOWO9dS",
        "outputId": "b243b6c3-0d6a-4cd5-feb1-afeb2b710b03"
      },
      "execution_count": 7,
      "outputs": [
        {
          "output_type": "display_data",
          "data": {
            "text/plain": [
              "<Figure size 800x500 with 1 Axes>"
            ],
            "image/png": "[encoded data removed]"
          },
          "metadata": {}
        }
      ]
    },
    {
      "cell_type": "code",
      "source": [
        "# --- Analisa Hubungan Fitur dengan Fraud ---\n",
        "# Profesi vs Fraud\n",
        "plt.figure(figsize=(12, 6))\n",
        "sns.countplot(x='Profession', hue='Fraud', data=df)\n",
        "plt.title('Jumlah Kasus Fraud Berdasarkan Profesi', fontsize=16)\n",
        "plt.xlabel('Profesi', fontsize=12)\n",
        "plt.ylabel('Jumlah', fontsize=12)\n",
        "plt.xticks(rotation=45, ha='right')\n",
        "plt.legend(title='Status', labels=['Legitimate', 'Fraud'])\n",
        "plt.tight_layout()\n",
        "plt.show()"
      ],
      "metadata": {
        "colab": {
          "base_uri": "https://localhost:8080/",
          "height": 442
        },
        "id": "05dECSm-O_OU",
        "outputId": "1f757281-0633-4c50-aa23-bdbb76064a46"
      },
      "execution_count": 8,
      "outputs": [
        {
          "output_type": "display_data",
          "data": {
            "text/plain": [
              "<Figure size 1200x600 with 1 Axes>"
            ],
            "image/png": "[encoded data removed]"
          },
          "metadata": {}
        }
      ]
    },
    {
      "cell_type": "code",
      "source": [
        "# Distribusi Income untuk setiap kelas\n",
        "plt.figure(figsize=(12, 6))\n",
        "sns.boxplot(x='Fraud', y='Income', data=df)\n",
        "plt.title('Distribusi Income untuk Transaksi Fraud vs Legitimate', fontsize=16)\n",
        "plt.xlabel('Kelas', fontsize=12)\n",
        "plt.ylabel('Income', fontsize=12)\n",
        "plt.xticks([0, 1], ['Legitimate', 'Fraud'])\n",
        "plt.show()"
      ],
      "metadata": {
        "colab": {
          "base_uri": "https://localhost:8080/",
          "height": 475
        },
        "id": "hte05pM5PBLL",
        "outputId": "bff5acf7-ebe9-44e6-83b7-993858743fb8"
      },
      "execution_count": 9,
      "outputs": [
        {
          "output_type": "display_data",
          "data": {
            "text/plain": [
              "<Figure size 1200x600 with 1 Axes>"
            ],
            "image/png": "[encoded data removed]"
          },
          "metadata": {}
        }
      ]
    },
    {
      "cell_type": "markdown",
      "source": [
        "# **Pra-pemrosesan Data (Data Preprocessing)**"
      ],
      "metadata": {
        "id": "S8RiSB-CPC8_"
      }
    },
    {
      "cell_type": "code",
      "source": [
        "# --- Feature Engineering & Selection ---\n",
        "# Penjelasan: Kolom 'Credit Card Number', 'Expiry', dan 'Security Code' adalah\n",
        "# data identifier yang sangat unik untuk setiap transaksi. Jika kita gunakan,\n",
        "# model akan 'menghafal' nomor kartu tertentu, bukan belajar pola umum penipuan.\n",
        "# Ini disebut 'data leakage' dan membuat model tidak berguna untuk data baru.\n",
        "# Oleh karena itu, kolom-kolom ini wajib dibuang.\n",
        "\n",
        "features_to_drop = ['Credit_card_number', 'Expiry', 'Security_code']\n",
        "df_processed = df.drop(columns=features_to_drop)\n",
        "print(f\"✅ Kolom {features_to_drop} berhasil dibuang.\")"
      ],
      "metadata": {
        "colab": {
          "base_uri": "https://localhost:8080/"
        },
        "id": "6fQKMrzYPFZg",
        "outputId": "b75f9369-bc5d-4020-ea65-1efaaba967a2"
      },
      "execution_count": 11,
      "outputs": [
        {
          "output_type": "stream",
          "name": "stdout",
          "text": [
            "✅ Kolom ['Credit_card_number', 'Expiry', 'Security_code'] berhasil dibuang.\n"
          ]
        }
      ]
    },
    {
      "cell_type": "code",
      "source": [
        "# Memisahkan fitur (X) dan target (y)\n",
        "X = df_processed.drop('Fraud', axis=1)\n",
        "y = df_processed['Fraud']"
      ],
      "metadata": {
        "id": "ccNrYZxlPXOe"
      },
      "execution_count": 12,
      "outputs": []
    },
    {
      "cell_type": "code",
      "source": [
        "# Mengidentifikasi tipe kolom\n",
        "numerical_features = X.select_dtypes(include=np.number).columns.tolist()\n",
        "categorical_features = X.select_dtypes(include=['object', 'category']).columns.tolist()\n",
        "\n",
        "print(f\"\\nKolom Numerik: {numerical_features}\")\n",
        "print(f\"Kolom Kategorikal: {categorical_features}\")"
      ],
      "metadata": {
        "colab": {
          "base_uri": "https://localhost:8080/"
        },
        "id": "4gbn14iUPY3L",
        "outputId": "f090d360-fc39-4722-d9fa-11159d79e1cc"
      },
      "execution_count": 13,
      "outputs": [
        {
          "output_type": "stream",
          "name": "stdout",
          "text": [
            "\n",
            "Kolom Numerik: ['Income']\n",
            "Kolom Kategorikal: ['Profession']\n"
          ]
        }
      ]
    },
    {
      "cell_type": "code",
      "source": [
        "# --- Membuat Preprocessing Pipeline ---\n",
        "# Pipeline ini adalah cara profesional untuk menerapkan transformasi data.\n",
        "# 1. Untuk data numerik ('Income'): Skalanya akan disamakan menggunakan StandardScaler.\n",
        "# 2. Untuk data kategorikal ('Profession'): Akan diubah menjadi angka menggunakan OneHotEncoder.\n",
        "#    'handle_unknown='ignore'' penting agar model tidak error jika menemukan profesi baru di data tes.\n",
        "\n",
        "preprocessor = ColumnTransformer(\n",
        "    transformers=[\n",
        "        ('num', StandardScaler(), numerical_features),\n",
        "        ('cat', OneHotEncoder(handle_unknown='ignore'), categorical_features)\n",
        "    ],\n",
        "    remainder='passthrough' # Jaga kolom lain jika ada (untuk fleksibilitas)\n",
        ")\n",
        "\n",
        "print(\"\\n✅ Pipeline preprocessing berhasil dibuat.\")"
      ],
      "metadata": {
        "colab": {
          "base_uri": "https://localhost:8080/"
        },
        "id": "awDkAxujPag8",
        "outputId": "3f32a958-5862-4b11-de8b-261c47114cc4"
      },
      "execution_count": 14,
      "outputs": [
        {
          "output_type": "stream",
          "name": "stdout",
          "text": [
            "\n",
            "✅ Pipeline preprocessing berhasil dibuat.\n"
          ]
        }
      ]
    },
    {
      "cell_type": "markdown",
      "source": [
        "# **Membagi Data (Train-Test Split)**"
      ],
      "metadata": {
        "id": "IZi7WDKLPdn9"
      }
    },
    {
      "cell_type": "code",
      "source": [
        "# Membagi data menjadi 80% data training dan 20% data testing\n",
        "# 'stratify=y' SANGAT PENTING! Ini memastikan proporsi kasus fraud dan non-fraud\n",
        "# di data training dan testing sama dengan proporsi di dataset asli.\n",
        "# Ini krusial untuk dataset yang tidak seimbang (imbalanced).\n",
        "\n",
        "X_train, X_test, y_train, y_test = train_test_split(\n",
        "    X, y,\n",
        "    test_size=0.2,      # 20% data untuk testing\n",
        "    random_state=42,    # Agar hasil pembagian data selalu sama\n",
        "    stratify=y          # Menjaga proporsi kelas target\n",
        ")\n",
        "\n",
        "print(f\"Ukuran Data Training: {X_train.shape}\")\n",
        "print(f\"Ukuran Data Testing: {X_test.shape}\")\n",
        "print(f\"Proporsi Fraud di Data Training: {round(y_train.value_counts(normalize=True)[1], 3)}\")\n",
        "print(f\"Proporsi Fraud di Data Testing: {round(y_test.value_counts(normalize=True)[1], 3)}\")"
      ],
      "metadata": {
        "colab": {
          "base_uri": "https://localhost:8080/"
        },
        "id": "3HqsDpUYPemu",
        "outputId": "d22d9fab-7222-415d-e9f3-5f6cbea256d0"
      },
      "execution_count": 15,
      "outputs": [
        {
          "output_type": "stream",
          "name": "stdout",
          "text": [
            "Ukuran Data Training: (8000, 2)\n",
            "Ukuran Data Testing: (2000, 2)\n",
            "Proporsi Fraud di Data Training: 0.502\n",
            "Proporsi Fraud di Data Testing: 0.501\n"
          ]
        }
      ]
    },
    {
      "cell_type": "markdown",
      "source": [
        "# **Melatih Model Machine Learning**"
      ],
      "metadata": {
        "id": "upuTRz9BPinq"
      }
    },
    {
      "cell_type": "code",
      "source": [
        "# --- Model 1: Logistic Regression (Sebagai Baseline) ---\n",
        "# Model ini simpel dan cepat, bagus sebagai titik awal perbandingan.\n",
        "pipeline_lr = Pipeline(steps=[\n",
        "    ('preprocessor', preprocessor),\n",
        "    ('classifier', LogisticRegression(random_state=42, class_weight='balanced')) # class_weight 'balanced' membantu model pada data imbalanced\n",
        "])\n",
        "pipeline_lr.fit(X_train, y_train)\n",
        "print(\"✅ Model Logistic Regression berhasil dilatih.\")"
      ],
      "metadata": {
        "colab": {
          "base_uri": "https://localhost:8080/"
        },
        "id": "Huymca3SPjZL",
        "outputId": "1d183800-e1da-4608-caa6-7b97ddde81dc"
      },
      "execution_count": 16,
      "outputs": [
        {
          "output_type": "stream",
          "name": "stdout",
          "text": [
            "✅ Model Logistic Regression berhasil dilatih.\n"
          ]
        }
      ]
    },
    {
      "cell_type": "code",
      "source": [
        "# --- Model 2: Random Forest ---\n",
        "# Model ensemble yang kuat dan seringkali memberikan hasil yang bagus.\n",
        "pipeline_rf = Pipeline(steps=[\n",
        "    ('preprocessor', preprocessor),\n",
        "    ('classifier', RandomForestClassifier(random_state=42, n_estimators=100, class_weight='balanced'))\n",
        "])\n",
        "pipeline_rf.fit(X_train, y_train)\n",
        "print(\"✅ Model Random Forest berhasil dilatih.\")"
      ],
      "metadata": {
        "colab": {
          "base_uri": "https://localhost:8080/"
        },
        "id": "GR8W0ifBPlfV",
        "outputId": "23e4c882-a81b-47f1-9a8a-53aad47df965"
      },
      "execution_count": 17,
      "outputs": [
        {
          "output_type": "stream",
          "name": "stdout",
          "text": [
            "✅ Model Random Forest berhasil dilatih.\n"
          ]
        }
      ]
    },
    {
      "cell_type": "code",
      "source": [
        "# --- Model 3: XGBoost ---\n",
        "# Salah satu model terkuat untuk data tabular. Sering jadi juara di kompetisi.\n",
        "# Kita perlu menghitung 'scale_pos_weight' untuk menangani data imbalanced di XGBoost.\n",
        "scale_pos_weight = y_train.value_counts()[0] / y_train.value_counts()[1]\n",
        "pipeline_xgb = Pipeline(steps=[\n",
        "    ('preprocessor', preprocessor),\n",
        "    ('classifier', xgb.XGBClassifier(random_state=42, use_label_encoder=False, eval_metric='logloss', scale_pos_weight=scale_pos_weight))\n",
        "])\n",
        "pipeline_xgb.fit(X_train, y_train)\n",
        "print(\"✅ Model XGBoost berhasil dilatih.\")"
      ],
      "metadata": {
        "colab": {
          "base_uri": "https://localhost:8080/"
        },
        "id": "s0F2AIv5Pnh2",
        "outputId": "af3beb5c-4522-4ca2-9058-7b355e1f8ab9"
      },
      "execution_count": 18,
      "outputs": [
        {
          "output_type": "stream",
          "name": "stderr",
          "text": [
            "/usr/local/lib/python3.11/dist-packages/xgboost/core.py:158: UserWarning: [11:42:18] WARNING: /workspace/src/learner.cc:740: \n",
            "Parameters: { \"use_label_encoder\" } are not used.\n",
            "\n",
            "  warnings.warn(smsg, UserWarning)\n"
          ]
        },
        {
          "output_type": "stream",
          "name": "stdout",
          "text": [
            "✅ Model XGBoost berhasil dilatih.\n"
          ]
        }
      ]
    },
    {
      "cell_type": "markdown",
      "source": [
        "# **Evaluasi Performa Model**"
      ],
      "metadata": {
        "id": "bmedv2CcPq9n"
      }
    },
    {
      "cell_type": "code",
      "source": [
        "# Membuat dictionary untuk menyimpan model yang sudah dilatih\n",
        "models = {\n",
        "    \"Logistic Regression\": pipeline_lr,\n",
        "    \"Random Forest\": pipeline_rf,\n",
        "    \"XGBoost\": pipeline_xgb\n",
        "}"
      ],
      "metadata": {
        "id": "kWxD_y5hPsg8"
      },
      "execution_count": 19,
      "outputs": []
    },
    {
      "cell_type": "code",
      "source": [
        "# Menyimpan hasil untuk perbandingan akhir\n",
        "results_summary = []"
      ],
      "metadata": {
        "id": "i6YDsGC1PucF"
      },
      "execution_count": 20,
      "outputs": []
    },
    {
      "cell_type": "code",
      "source": [
        "# Looping untuk mengevaluasi setiap model\n",
        "for name, model in models.items():\n",
        "    print(f\"--- Evaluasi Model: {name} ---\")\n",
        "\n",
        "    # Membuat prediksi pada data tes\n",
        "    y_pred = model.predict(X_test)\n",
        "    y_prob = model.predict_proba(X_test)[:, 1] # Probabilitas untuk kelas 1 (Fraud)\n",
        "\n",
        "    # Menampilkan Classification Report\n",
        "    # Ini memberikan ringkasan Precision, Recall, F1-Score\n",
        "    print(\"Classification Report:\")\n",
        "    print(classification_report(y_test, y_pred, target_names=['Legitimate', 'Fraud']))\n",
        "\n",
        "    # Menampilkan Confusion Matrix\n",
        "    cm = confusion_matrix(y_test, y_pred)\n",
        "    plt.figure(figsize=(6, 4))\n",
        "    sns.heatmap(cm, annot=True, fmt='d', cmap='YlGnBu',\n",
        "                xticklabels=['Legitimate', 'Fraud'], yticklabels=['Legitimate', 'Fraud'])\n",
        "    plt.xlabel('Prediksi Model')\n",
        "    plt.ylabel('Label Aktual')\n",
        "    plt.title(f'Confusion Matrix - {name}')\n",
        "    plt.show()\n",
        "\n",
        "    # Menghitung & menyimpan metrik penting\n",
        "    roc_auc = roc_auc_score(y_test, y_prob)\n",
        "    report = classification_report(y_test, y_pred, output_dict=True)\n",
        "    precision_fraud = report['1']['precision'] # Use '1' for Fraud\n",
        "    recall_fraud = report['1']['recall']     # Use '1' for Fraud\n",
        "    f1_fraud = report['1']['f1-score']       # Use '1' for Fraud\n",
        "\n",
        "    results_summary.append({\n",
        "        'Model': name,\n",
        "        'Precision (Fraud)': precision_fraud,\n",
        "        'Recall (Fraud)': recall_fraud,\n",
        "        'F1-Score (Fraud)': f1_fraud,\n",
        "        'ROC-AUC': roc_auc\n",
        "    })\n",
        "    print(f\"ROC-AUC Score: {roc_auc:.4f}\\n\")\n",
        "    print(\"-\" * 60)"
      ],
      "metadata": {
        "colab": {
          "base_uri": "https://localhost:8080/",
          "height": 1000
        },
        "id": "jinXuYOJPvrz",
        "outputId": "3f7d98d3-6b74-4c05-e485-504a80c3ce38"
      },
      "execution_count": 24,
      "outputs": [
        {
          "output_type": "stream",
          "name": "stdout",
          "text": [
            "--- Evaluasi Model: Logistic Regression ---\n",
            "Classification Report:\n",
            "              precision    recall  f1-score   support\n",
            "\n",
            "  Legitimate       0.52      0.41      0.46       997\n",
            "       Fraud       0.52      0.63      0.57      1003\n",
            "\n",
            "    accuracy                           0.52      2000\n",
            "   macro avg       0.52      0.52      0.51      2000\n",
            "weighted avg       0.52      0.52      0.51      2000\n",
            "\n"
          ]
        },
        {
          "output_type": "display_data",
          "data": {
            "text/plain": [
              "<Figure size 600x400 with 2 Axes>"
            ],
            "image/png": "[encoded data removed]"
          },
          "metadata": {}
        },
        {
          "output_type": "stream",
          "name": "stdout",
          "text": [
            "ROC-AUC Score: 0.5296\n",
            "\n",
            "------------------------------------------------------------\n",
            "--- Evaluasi Model: Random Forest ---\n",
            "Classification Report:\n",
            "              precision    recall  f1-score   support\n",
            "\n",
            "  Legitimate       0.50      0.52      0.51       997\n",
            "       Fraud       0.50      0.48      0.49      1003\n",
            "\n",
            "    accuracy                           0.50      2000\n",
            "   macro avg       0.50      0.50      0.50      2000\n",
            "weighted avg       0.50      0.50      0.50      2000\n",
            "\n"
          ]
        },
        {
          "output_type": "display_data",
          "data": {
            "text/plain": [
              "<Figure size 600x400 with 2 Axes>"
            ],
            "image/png": "[encoded data removed]"
          },
          "metadata": {}
        },
        {
          "output_type": "stream",
          "name": "stdout",
          "text": [
            "ROC-AUC Score: 0.5005\n",
            "\n",
            "------------------------------------------------------------\n",
            "--- Evaluasi Model: XGBoost ---\n",
            "Classification Report:\n",
            "              precision    recall  f1-score   support\n",
            "\n",
            "  Legitimate       0.51      0.51      0.51       997\n",
            "       Fraud       0.51      0.51      0.51      1003\n",
            "\n",
            "    accuracy                           0.51      2000\n",
            "   macro avg       0.51      0.51      0.51      2000\n",
            "weighted avg       0.51      0.51      0.51      2000\n",
            "\n"
          ]
        },
        {
          "output_type": "display_data",
          "data": {
            "text/plain": [
              "<Figure size 600x400 with 2 Axes>"
            ],
            "image/png": "[encoded data removed]"
          },
          "metadata": {}
        },
        {
          "output_type": "stream",
          "name": "stdout",
          "text": [
            "ROC-AUC Score: 0.5043\n",
            "\n",
            "------------------------------------------------------------\n"
          ]
        }
      ]
    },
    {
      "cell_type": "code",
      "metadata": {
        "colab": {
          "base_uri": "https://localhost:8080/",
          "height": 272
        },
        "id": "d0821c0b",
        "outputId": "90142f48-5a67-4195-c956-6913d3259208"
      },
      "source": [
        "# Menampilkan ringkasan hasil perbandingan model dalam format DataFrame\n",
        "results_df = pd.DataFrame(results_summary)\n",
        "print(\"\\nRingkasan Perbandingan Model:\")\n",
        "display(results_df)"
      ],
      "execution_count": 25,
      "outputs": [
        {
          "output_type": "stream",
          "name": "stdout",
          "text": [
            "\n",
            "Ringkasan Perbandingan Model:\n"
          ]
        },
        {
          "output_type": "display_data",
          "data": {
            "text/plain": [
              "                 Model  Precision (Fraud)  Recall (Fraud)  F1-Score (Fraud)  \\\n",
              "0  Logistic Regression           0.518062        0.629113          0.568213   \n",
              "1        Random Forest           0.501548        0.484546          0.492901   \n",
              "2              XGBoost           0.510574        0.505484          0.508016   \n",
              "3  Logistic Regression           0.518062        0.629113          0.568213   \n",
              "4        Random Forest           0.501548        0.484546          0.492901   \n",
              "5              XGBoost           0.510574        0.505484          0.508016   \n",
              "\n",
              "    ROC-AUC  \n",
              "0  0.529621  \n",
              "1  0.500545  \n",
              "2  0.504278  \n",
              "3  0.529621  \n",
              "4  0.500545  \n",
              "5  0.504278  "
            ],
            "text/html": [
              "\n",
              "  <div id=\"df-c96fd124-262c-498a-be95-719846d40f8e\" class=\"colab-df-container\">\n",
              "    <div>\n",
              "<style scoped>\n",
              "    .dataframe tbody tr th:only-of-type {\n",
              "        vertical-align: middle;\n",
              "    }\n",
              "\n",
              "    .dataframe tbody tr th {\n",
              "        vertical-align: top;\n",
              "    }\n",
              "\n",
              "    .dataframe thead th {\n",
              "        text-align: right;\n",
              "    }\n",
              "</style>\n",
              "<table border=\"1\" class=\"dataframe\">\n",
              "  <thead>\n",
              "    <tr style=\"text-align: right;\">\n",
              "      <th></th>\n",
              "      <th>Model</th>\n",
              "      <th>Precision (Fraud)</th>\n",
              "      <th>Recall (Fraud)</th>\n",
              "      <th>F1-Score (Fraud)</th>\n",
              "      <th>ROC-AUC</th>\n",
              "    </tr>\n",
              "  </thead>\n",
              "  <tbody>\n",
              "    <tr>\n",
              "      <th>0</th>\n",
              "      <td>Logistic Regression</td>\n",
              "      <td>0.518062</td>\n",
              "      <td>0.629113</td>\n",
              "      <td>0.568213</td>\n",
              "      <td>0.529621</td>\n",
              "    </tr>\n",
              "    <tr>\n",
              "      <th>1</th>\n",
              "      <td>Random Forest</td>\n",
              "      <td>0.501548</td>\n",
              "      <td>0.484546</td>\n",
              "      <td>0.492901</td>\n",
              "      <td>0.500545</td>\n",
              "    </tr>\n",
              "    <tr>\n",
              "      <th>2</th>\n",
              "      <td>XGBoost</td>\n",
              "      <td>0.510574</td>\n",
              "      <td>0.505484</td>\n",
              "      <td>0.508016</td>\n",
              "      <td>0.504278</td>\n",
              "    </tr>\n",
              "    <tr>\n",
              "      <th>3</th>\n",
              "      <td>Logistic Regression</td>\n",
              "      <td>0.518062</td>\n",
              "      <td>0.629113</td>\n",
              "      <td>0.568213</td>\n",
              "      <td>0.529621</td>\n",
              "    </tr>\n",
              "    <tr>\n",
              "      <th>4</th>\n",
              "      <td>Random Forest</td>\n",
              "      <td>0.501548</td>\n",
              "      <td>0.484546</td>\n",
              "      <td>0.492901</td>\n",
              "      <td>0.500545</td>\n",
              "    </tr>\n",
              "    <tr>\n",
              "      <th>5</th>\n",
              "      <td>XGBoost</td>\n",
              "      <td>0.510574</td>\n",
              "      <td>0.505484</td>\n",
              "      <td>0.508016</td>\n",
              "      <td>0.504278</td>\n",
              "    </tr>\n",
              "  </tbody>\n",
              "</table>\n",
              "</div>\n",
              "    <div class=\"colab-df-buttons\">\n",
              "\n",
              "  <div class=\"colab-df-container\">\n",
              "    <button class=\"colab-df-convert\" onclick=\"convertToInteractive('df-c96fd124-262c-498a-be95-719846d40f8e')\"\n",
              "            title=\"Convert this dataframe to an interactive table.\"\n",
              "            style=\"display:none;\">\n",
              "\n",
              "  <svg xmlns=\"http://www.w3.org/2000/svg\" height=\"24px\" viewBox=\"0 -960 960 960\">\n",
              "    <path d=\"M120-120v-720h720v720H120Zm60-500h600v-160H180v160Zm220 220h160v-160H400v160Zm0 220h160v-160H400v160ZM180-400h160v-160H180v160Zm440 0h160v-160H620v160ZM180-180h160v-160H180v160Zm440 0h160v-160H620v160Z\"/>\n",
              "  </svg>\n",
              "    </button>\n",
              "\n",
              "  <style>\n",
              "    .colab-df-container {\n",
              "      display:flex;\n",
              "      gap: 12px;\n",
              "    }\n",
              "\n",
              "    .colab-df-convert {\n",
              "      background-color: #E8F0FE;\n",
              "      border: none;\n",
              "      border-radius: 50%;\n",
              "      cursor: pointer;\n",
              "      display: none;\n",
              "      fill: #1967D2;\n",
              "      height: 32px;\n",
              "      padding: 0 0 0 0;\n",
              "      width: 32px;\n",
              "    }\n",
              "\n",
              "    .colab-df-convert:hover {\n",
              "      background-color: #E2EBFA;\n",
              "      box-shadow: 0px 1px 2px rgba(60, 64, 67, 0.3), 0px 1px 3px 1px rgba(60, 64, 67, 0.15);\n",
              "      fill: #174EA6;\n",
              "    }\n",
              "\n",
              "    .colab-df-buttons div {\n",
              "      margin-bottom: 4px;\n",
              "    }\n",
              "\n",
              "    [theme=dark] .colab-df-convert {\n",
              "      background-color: #3B4455;\n",
              "      fill: #D2E3FC;\n",
              "    }\n",
              "\n",
              "    [theme=dark] .colab-df-convert:hover {\n",
              "      background-color: #434B5C;\n",
              "      box-shadow: 0px 1px 3px 1px rgba(0, 0, 0, 0.15);\n",
              "      filter: drop-shadow(0px 1px 2px rgba(0, 0, 0, 0.3));\n",
              "      fill: #FFFFFF;\n",
              "    }\n",
              "  </style>\n",
              "\n",
              "    <script>\n",
              "      const buttonEl =\n",
              "        document.querySelector('#df-c96fd124-262c-498a-be95-719846d40f8e button.colab-df-convert');\n",
              "      buttonEl.style.display =\n",
              "        google.colab.kernel.accessAllowed ? 'block' : 'none';\n",
              "\n",
              "      async function convertToInteractive(key) {\n",
              "        const element = document.querySelector('#df-c96fd124-262c-498a-be95-719846d40f8e');\n",
              "        const dataTable =\n",
              "          await google.colab.kernel.invokeFunction('convertToInteractive',\n",
              "                                                    [key], {});\n",
              "        if (!dataTable) return;\n",
              "\n",
              "        const docLinkHtml = 'Like what you see? Visit the ' +\n",
              "          '<a target=\"_blank\" href=https://colab.research.google.com/notebooks/data_table.ipynb>data table notebook</a>'\n",
              "          + ' to learn more about interactive tables.';\n",
              "        element.innerHTML = '';\n",
              "        dataTable['output_type'] = 'display_data';\n",
              "        await google.colab.output.renderOutput(dataTable, element);\n",
              "        const docLink = document.createElement('div');\n",
              "        docLink.innerHTML = docLinkHtml;\n",
              "        element.appendChild(docLink);\n",
              "      }\n",
              "    </script>\n",
              "  </div>\n",
              "\n",
              "\n",
              "    <div id=\"df-b2c68f73-69ed-4c45-9b08-542b1b1c907e\">\n",
              "      <button class=\"colab-df-quickchart\" onclick=\"quickchart('df-b2c68f73-69ed-4c45-9b08-542b1b1c907e')\"\n",
              "                title=\"Suggest charts\"\n",
              "                style=\"display:none;\">\n",
              "\n",
              "<svg xmlns=\"http://www.w3.org/2000/svg\" height=\"24px\"viewBox=\"0 0 24 24\"\n",
              "     width=\"24px\">\n",
              "    <g>\n",
              "        <path d=\"M19 3H5c-1.1 0-2 .9-2 2v14c0 1.1.9 2 2 2h14c1.1 0 2-.9 2-2V5c0-1.1-.9-2-2-2zM9 17H7v-7h2v7zm4 0h-2V7h2v10zm4 0h-2v-4h2v4z\"/>\n",
              "    </g>\n",
              "</svg>\n",
              "      </button>\n",
              "\n",
              "<style>\n",
              "  .colab-df-quickchart {\n",
              "      --bg-color: #E8F0FE;\n",
              "      --fill-color: #1967D2;\n",
              "      --hover-bg-color: #E2EBFA;\n",
              "      --hover-fill-color: #174EA6;\n",
              "      --disabled-fill-color: #AAA;\n",
              "      --disabled-bg-color: #DDD;\n",
              "  }\n",
              "\n",
              "  [theme=dark] .colab-df-quickchart {\n",
              "      --bg-color: #3B4455;\n",
              "      --fill-color: #D2E3FC;\n",
              "      --hover-bg-color: #434B5C;\n",
              "      --hover-fill-color: #FFFFFF;\n",
              "      --disabled-bg-color: #3B4455;\n",
              "      --disabled-fill-color: #666;\n",
              "  }\n",
              "\n",
              "  .colab-df-quickchart {\n",
              "    background-color: var(--bg-color);\n",
              "    border: none;\n",
              "    border-radius: 50%;\n",
              "    cursor: pointer;\n",
              "    display: none;\n",
              "    fill: var(--fill-color);\n",
              "    height: 32px;\n",
              "    padding: 0;\n",
              "    width: 32px;\n",
              "  }\n",
              "\n",
              "  .colab-df-quickchart:hover {\n",
              "    background-color: var(--hover-bg-color);\n",
              "    box-shadow: 0 1px 2px rgba(60, 64, 67, 0.3), 0 1px 3px 1px rgba(60, 64, 67, 0.15);\n",
              "    fill: var(--button-hover-fill-color);\n",
              "  }\n",
              "\n",
              "  .colab-df-quickchart-complete:disabled,\n",
              "  .colab-df-quickchart-complete:disabled:hover {\n",
              "    background-color: var(--disabled-bg-color);\n",
              "    fill: var(--disabled-fill-color);\n",
              "    box-shadow: none;\n",
              "  }\n",
              "\n",
              "  .colab-df-spinner {\n",
              "    border: 2px solid var(--fill-color);\n",
              "    border-color: transparent;\n",
              "    border-bottom-color: var(--fill-color);\n",
              "    animation:\n",
              "      spin 1s steps(1) infinite;\n",
              "  }\n",
              "\n",
              "  @keyframes spin {\n",
              "    0% {\n",
              "      border-color: transparent;\n",
              "      border-bottom-color: var(--fill-color);\n",
              "      border-left-color: var(--fill-color);\n",
              "    }\n",
              "    20% {\n",
              "      border-color: transparent;\n",
              "      border-left-color: var(--fill-color);\n",
              "      border-top-color: var(--fill-color);\n",
              "    }\n",
              "    30% {\n",
              "      border-color: transparent;\n",
              "      border-left-color: var(--fill-color);\n",
              "      border-top-color: var(--fill-color);\n",
              "      border-right-color: var(--fill-color);\n",
              "    }\n",
              "    40% {\n",
              "      border-color: transparent;\n",
              "      border-right-color: var(--fill-color);\n",
              "      border-top-color: var(--fill-color);\n",
              "    }\n",
              "    60% {\n",
              "      border-color: transparent;\n",
              "      border-right-color: var(--fill-color);\n",
              "    }\n",
              "    80% {\n",
              "      border-color: transparent;\n",
              "      border-right-color: var(--fill-color);\n",
              "      border-bottom-color: var(--fill-color);\n",
              "    }\n",
              "    90% {\n",
              "      border-color: transparent;\n",
              "      border-bottom-color: var(--fill-color);\n",
              "    }\n",
              "  }\n",
              "</style>\n",
              "\n",
              "      <script>\n",
              "        async function quickchart(key) {\n",
              "          const quickchartButtonEl =\n",
              "            document.querySelector('#' + key + ' button');\n",
              "          quickchartButtonEl.disabled = true;  // To prevent multiple clicks.\n",
              "          quickchartButtonEl.classList.add('colab-df-spinner');\n",
              "          try {\n",
              "            const charts = await google.colab.kernel.invokeFunction(\n",
              "                'suggestCharts', [key], {});\n",
              "          } catch (error) {\n",
              "            console.error('Error during call to suggestCharts:', error);\n",
              "          }\n",
              "          quickchartButtonEl.classList.remove('colab-df-spinner');\n",
              "          quickchartButtonEl.classList.add('colab-df-quickchart-complete');\n",
              "        }\n",
              "        (() => {\n",
              "          let quickchartButtonEl =\n",
              "            document.querySelector('#df-b2c68f73-69ed-4c45-9b08-542b1b1c907e button');\n",
              "          quickchartButtonEl.style.display =\n",
              "            google.colab.kernel.accessAllowed ? 'block' : 'none';\n",
              "        })();\n",
              "      </script>\n",
              "    </div>\n",
              "\n",
              "  <div id=\"id_2e1e3899-694f-482d-b16e-5eaa179f787a\">\n",
              "    <style>\n",
              "      .colab-df-generate {\n",
              "        background-color: #E8F0FE;\n",
              "        border: none;\n",
              "        border-radius: 50%;\n",
              "        cursor: pointer;\n",
              "        display: none;\n",
              "        fill: #1967D2;\n",
              "        height: 32px;\n",
              "        padding: 0 0 0 0;\n",
              "        width: 32px;\n",
              "      }\n",
              "\n",
              "      .colab-df-generate:hover {\n",
              "        background-color: #E2EBFA;\n",
              "        box-shadow: 0px 1px 2px rgba(60, 64, 67, 0.3), 0px 1px 3px 1px rgba(60, 64, 67, 0.15);\n",
              "        fill: #174EA6;\n",
              "      }\n",
              "\n",
              "      [theme=dark] .colab-df-generate {\n",
              "        background-color: #3B4455;\n",
              "        fill: #D2E3FC;\n",
              "      }\n",
              "\n",
              "      [theme=dark] .colab-df-generate:hover {\n",
              "        background-color: #434B5C;\n",
              "        box-shadow: 0px 1px 3px 1px rgba(0, 0, 0, 0.15);\n",
              "        filter: drop-shadow(0px 1px 2px rgba(0, 0, 0, 0.3));\n",
              "        fill: #FFFFFF;\n",
              "      }\n",
              "    </style>\n",
              "    <button class=\"colab-df-generate\" onclick=\"generateWithVariable('results_df')\"\n",
              "            title=\"Generate code using this dataframe.\"\n",
              "            style=\"display:none;\">\n",
              "\n",
              "  <svg xmlns=\"http://www.w3.org/2000/svg\" height=\"24px\"viewBox=\"0 0 24 24\"\n",
              "       width=\"24px\">\n",
              "    <path d=\"M7,19H8.4L18.45,9,17,7.55,7,17.6ZM5,21V16.75L18.45,3.32a2,2,0,0,1,2.83,0l1.4,1.43a1.91,1.91,0,0,1,.58,1.4,1.91,1.91,0,0,1-.58,1.4L9.25,21ZM18.45,9,17,7.55Zm-12,3A5.31,5.31,0,0,0,4.9,8.1,5.31,5.31,0,0,0,1,6.5,5.31,5.31,0,0,0,4.9,4.9,5.31,5.31,0,0,0,6.5,1,5.31,5.31,0,0,0,8.1,4.9,5.31,5.31,0,0,0,12,6.5,5.46,5.46,0,0,0,6.5,12Z\"/>\n",
              "  </svg>\n",
              "    </button>\n",
              "    <script>\n",
              "      (() => {\n",
              "      const buttonEl =\n",
              "        document.querySelector('#id_2e1e3899-694f-482d-b16e-5eaa179f787a button.colab-df-generate');\n",
              "      buttonEl.style.display =\n",
              "        google.colab.kernel.accessAllowed ? 'block' : 'none';\n",
              "\n",
              "      buttonEl.onclick = () => {\n",
              "        google.colab.notebook.generateWithVariable('results_df');\n",
              "      }\n",
              "      })();\n",
              "    </script>\n",
              "  </div>\n",
              "\n",
              "    </div>\n",
              "  </div>\n"
            ],
            "application/vnd.google.colaboratory.intrinsic+json": {
              "type": "dataframe",
              "variable_name": "results_df",
              "summary": "{\n  \"name\": \"results_df\",\n  \"rows\": 6,\n  \"fields\": [\n    {\n      \"column\": \"Model\",\n      \"properties\": {\n        \"dtype\": \"string\",\n        \"num_unique_values\": 3,\n        \"samples\": [\n          \"Logistic Regression\",\n          \"Random Forest\",\n          \"XGBoost\"\n        ],\n        \"semantic_type\": \"\",\n        \"description\": \"\"\n      }\n    },\n    {\n      \"column\": \"Precision (Fraud)\",\n      \"properties\": {\n        \"dtype\": \"number\",\n        \"std\": 0.007396132143417855,\n        \"min\": 0.5015479876160991,\n        \"max\": 0.5180623973727422,\n        \"num_unique_values\": 3,\n        \"samples\": [\n          0.5180623973727422,\n          0.5015479876160991,\n          0.5105740181268882\n        ],\n        \"semantic_type\": \"\",\n        \"description\": \"\"\n      }\n    },\n    {\n      \"column\": \"Recall (Fraud)\",\n      \"properties\": {\n        \"dtype\": \"number\",\n        \"std\": 0.06987793048827502,\n        \"min\": 0.48454636091724823,\n        \"max\": 0.6291126620139581,\n        \"num_unique_values\": 3,\n        \"samples\": [\n          0.6291126620139581,\n          0.48454636091724823,\n          0.5054835493519442\n        ],\n        \"semantic_type\": \"\",\n        \"description\": \"\"\n      }\n    },\n    {\n      \"column\": \"F1-Score (Fraud)\",\n      \"properties\": {\n        \"dtype\": \"number\",\n        \"std\": 0.03563514436662143,\n        \"min\": 0.49290060851926976,\n        \"max\": 0.5682125168842863,\n        \"num_unique_values\": 3,\n        \"samples\": [\n          0.5682125168842863,\n          0.49290060851926976,\n          0.5080160320641283\n        ],\n        \"semantic_type\": \"\",\n        \"description\": \"\"\n      }\n    },\n    {\n      \"column\": \"ROC-AUC\",\n      \"properties\": {\n        \"dtype\": \"number\",\n        \"std\": 0.014150138580924801,\n        \"min\": 0.5005445049005441,\n        \"max\": 0.5296212665913994,\n        \"num_unique_values\": 3,\n        \"samples\": [\n          0.5296212665913994,\n          0.5005445049005441,\n          0.5042775384978464\n        ],\n        \"semantic_type\": \"\",\n        \"description\": \"\"\n      }\n    }\n  ]\n}"
            }
          },
          "metadata": {}
        }
      ]
    },
    {
      "cell_type": "markdown",
      "source": [
        "# **Kesimpulan & Perbandingan Model**"
      ],
      "metadata": {
        "id": "5SCaBPfhQQ7T"
      }
    },
    {
      "cell_type": "code",
      "source": [
        "# Membuat DataFrame dari hasil rangkuman\n",
        "df_results = pd.DataFrame(results_summary)"
      ],
      "metadata": {
        "id": "VxIq5j5wQR0T"
      },
      "execution_count": 26,
      "outputs": []
    },
    {
      "cell_type": "code",
      "source": [
        "# Mengurutkan berdasarkan metrik yang paling kita pedulikan (misal: F1-Score atau Recall)\n",
        "df_results_sorted = df_results.sort_values(by='F1-Score (Fraud)', ascending=False).reset_index(drop=True)\n",
        "\n",
        "print(\"🏆 Tabel Perbandingan Performa Model (Fokus pada Deteksi 'Fraud') 🏆\")\n",
        "print(df_results_sorted)\n",
        "\n",
        "print(\"\\n--- Analisis Akhir ---\")\n",
        "print(\"Dalam kasus deteksi penipuan, kita seringkali lebih memilih model dengan **Recall** yang tinggi.\")\n",
        "print(\"Kenapa? Karena lebih baik kita salah menandai transaksi sah sebagai fraud (False Positive),\")\n",
        "print(\"daripada kita kelewatan kasus fraud yang sebenarnya (False Negative). Kerugian dari False Negative jauh lebih besar.\")\n",
        "print(\"\\nBerdasarkan tabel di atas, model dengan **Recall (Fraud)** dan **F1-Score (Fraud)** tertinggi adalah kandidat terbaik.\")\n",
        "print(\"Biasanya, **Random Forest** atau **XGBoost** akan menunjukkan performa yang jauh lebih unggul daripada Logistic Regression untuk tugas seperti ini.\")\n",
        "\n",
        "best_model_name = df_results_sorted.iloc[0]['Model']\n",
        "print(f\"\\nModel terbaik untuk kasus ini kemungkinan adalah: **{best_model_name}**\")"
      ],
      "metadata": {
        "colab": {
          "base_uri": "https://localhost:8080/"
        },
        "id": "oV29PtOjQTMC",
        "outputId": "a72ea526-b6c4-4556-9265-31e6afa36fe3"
      },
      "execution_count": 27,
      "outputs": [
        {
          "output_type": "stream",
          "name": "stdout",
          "text": [
            "🏆 Tabel Perbandingan Performa Model (Fokus pada Deteksi 'Fraud') 🏆\n",
            "                 Model  Precision (Fraud)  Recall (Fraud)  F1-Score (Fraud)  \\\n",
            "0  Logistic Regression           0.518062        0.629113          0.568213   \n",
            "1  Logistic Regression           0.518062        0.629113          0.568213   \n",
            "2              XGBoost           0.510574        0.505484          0.508016   \n",
            "3              XGBoost           0.510574        0.505484          0.508016   \n",
            "4        Random Forest           0.501548        0.484546          0.492901   \n",
            "5        Random Forest           0.501548        0.484546          0.492901   \n",
            "\n",
            "    ROC-AUC  \n",
            "0  0.529621  \n",
            "1  0.529621  \n",
            "2  0.504278  \n",
            "3  0.504278  \n",
            "4  0.500545  \n",
            "5  0.500545  \n",
            "\n",
            "--- Analisis Akhir ---\n",
            "Dalam kasus deteksi penipuan, kita seringkali lebih memilih model dengan **Recall** yang tinggi.\n",
            "Kenapa? Karena lebih baik kita salah menandai transaksi sah sebagai fraud (False Positive),\n",
            "daripada kita kelewatan kasus fraud yang sebenarnya (False Negative). Kerugian dari False Negative jauh lebih besar.\n",
            "\n",
            "Berdasarkan tabel di atas, model dengan **Recall (Fraud)** dan **F1-Score (Fraud)** tertinggi adalah kandidat terbaik.\n",
            "Biasanya, **Random Forest** atau **XGBoost** akan menunjukkan performa yang jauh lebih unggul daripada Logistic Regression untuk tugas seperti ini.\n",
            "\n",
            "Model terbaik untuk kasus ini kemungkinan adalah: **Logistic Regression**\n"
          ]
        }
      ]
    }
  ]
}